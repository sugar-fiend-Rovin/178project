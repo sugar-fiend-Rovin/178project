{
 "cells": [
  {
   "cell_type": "code",
   "execution_count": 1,
   "metadata": {},
   "outputs": [
    {
     "name": "stdout",
     "output_type": "stream",
     "text": [
      "(140000, 14)\n",
      "(60000, 14)\n"
     ]
    }
   ],
   "source": [
    "import numpy as np\n",
    "np.random.seed(0)\n",
    "import matplotlib.pyplot as plt\n",
    "from sklearn.ensemble import GradientBoostingClassifier\n",
    "\n",
    "import mltools as ml\n",
    "X = np.loadtxt(\"data/X_train.txt\")\n",
    "Y = np.loadtxt(\"data/Y_train.txt\")\n",
    "Xtr,Ytr = ml.shuffleData(X,Y)\n",
    "\n",
    "Xtr,Xva,Ytr,Yva = ml.splitData(Xtr,Ytr,0.70)\n",
    "\n",
    "print(Xtr.shape)\n",
    "print(Xva.shape)"
   ]
  },
  {
   "cell_type": "code",
   "execution_count": 3,
   "metadata": {},
   "outputs": [
    {
     "name": "stdout",
     "output_type": "stream",
     "text": [
      "Accuracy score (training): 0.690\n",
      "Accuracy score (validation): 0.691\n",
      "\n"
     ]
    }
   ],
   "source": [
    "gb = GradientBoostingClassifier(n_estimators=1000, learning_rate = .001, max_features=\"auto\", max_depth = 5, min_samples_leaf= 2, min_samples_split= 10)\n",
    "gb.fit(Xtr, Ytr)\n",
    "print(\"Accuracy score (training): {0:.3f}\".format(gb.score(Xtr, Ytr)))\n",
    "print(\"Accuracy score (validation): {0:.3f}\".format(gb.score(Xva, Yva)))\n",
    "print()"
   ]
  },
  {
   "cell_type": "code",
   "execution_count": 4,
   "metadata": {},
   "outputs": [
    {
     "name": "stdout",
     "output_type": "stream",
     "text": [
      "Accuracy score (training): 0.690\n",
      "Accuracy score (validation): 0.691\n",
      "\n"
     ]
    }
   ],
   "source": [
    "gb = GradientBoostingClassifier(n_estimators=1250, learning_rate = .001, max_features=\"auto\", max_depth = 4, min_samples_leaf= 5, min_samples_split= 2)\n",
    "gb.fit(Xtr, Ytr)\n",
    "print(\"Accuracy score (training): {0:.3f}\".format(gb.score(Xtr, Ytr)))\n",
    "print(\"Accuracy score (validation): {0:.3f}\".format(gb.score(Xva, Yva)))\n",
    "print()"
   ]
  },
  {
   "cell_type": "code",
   "execution_count": 4,
   "metadata": {},
   "outputs": [],
   "source": [
    "# from sklearn.ensemble import RandomForestClassifier\n",
    "# from sklearn.datasets import make_classification\n",
    "\n",
    "# training_err = []\n",
    "# validation_err = []\n",
    "# probs = []\n",
    "\n",
    "# # {'bootstrap': True,\n",
    "# #  'max_depth': 50,\n",
    "# #  'max_features': 2,\n",
    "# #  'min_samples_leaf': 5,\n",
    "# #  'min_samples_split': 3,\n",
    "# #  'n_estimators': 1000}\n",
    "\n",
    "# clf = RandomForestClassifier(bootstrap=True, max_features=2, min_samples_leaf=5, min_samples_split=3, n_estimators=1000)\n",
    "# clf.fit(Xtr, Ytr)\n",
    "# training_err.append(1-clf.score(Xtr, Ytr))\n",
    "# validation_err.append(1-clf.score(Xva, Yva))\n",
    "\n",
    "# probs.append(clf.predict_proba(Xva))\n",
    "\n",
    "# print(\"tr err:\", training_err)\n",
    "# print(\"va err:\", validation_err)\n",
    "# print(\"class probs\", probs)"
   ]
  },
  {
   "cell_type": "code",
   "execution_count": null,
   "metadata": {},
   "outputs": [
    {
     "name": "stdout",
     "output_type": "stream",
     "text": [
      "Fitting 3 folds for each of 100 candidates, totalling 300 fits\n"
     ]
    },
    {
     "name": "stderr",
     "output_type": "stream",
     "text": [
      "[Parallel(n_jobs=-1)]: Using backend LokyBackend with 16 concurrent workers.\n",
      "[Parallel(n_jobs=-1)]: Done   9 tasks      | elapsed: 16.8min\n"
     ]
    }
   ],
   "source": [
    "### RANDOM SEARCH\n",
    "from sklearn.model_selection import GridSearchCV\n",
    "from sklearn.model_selection import RandomizedSearchCV\n",
    "from sklearn.ensemble import RandomForestRegressor\n",
    "rf = RandomForestRegressor(random_state = 42)\n",
    "from pprint import pprint\n",
    "\n",
    "# Number of trees in random forest\n",
    "n_estimators = [int(x) for x in np.linspace(start = 200, stop = 2000, num = 10)]\n",
    "# Number of features to consider at every split\n",
    "max_features = ['auto', 'sqrt']\n",
    "# Maximum number of levels in tree\n",
    "max_depth = [int(x) for x in np.linspace(10, 110, num = 11)]\n",
    "max_depth.append(None)\n",
    "\n",
    "min_samples_split = [2, 5, 10, 15, 20]\n",
    "min_samples_leaf = [1, 2, 4, 5, 10, 15, 20]\n",
    "bootstrap = [True, False]\n",
    "\n",
    "# Create the random grid\n",
    "random_grid = {'n_estimators': n_estimators,\n",
    "               'max_features': max_features,\n",
    "               'max_depth': max_depth,\n",
    "               'min_samples_split': min_samples_split,\n",
    "               'min_samples_leaf': min_samples_leaf,\n",
    "               'bootstrap': bootstrap}\n",
    "\n",
    "# Use the random grid to search for best hyperparameters\n",
    "# First create the base model to tune\n",
    "rf = RandomForestRegressor()\n",
    "# Random search of parameters, using 3 fold cross validation, \n",
    "# search across 100 different combinations, and use all available cores\n",
    "rf_random = RandomizedSearchCV(estimator = rf, param_distributions = random_grid, n_iter = 100, cv = 3, verbose=2, random_state=42, n_jobs = -1)\n",
    "# Fit the random search model\n",
    "rf_random.fit(Xtr, Ytr)\n",
    "print(\"Best parameters:\", rf_random.best_params_)\n",
    "\n",
    "\n",
    "#### GRID SEARCH\n",
    "# Create the parameter grid based on the results of random search \n",
    "param_grid = {\n",
    "    'bootstrap': [True],\n",
    "    'max_depth': [20, 30, 40, 50],\n",
    "    'max_features': [2, 3],\n",
    "    'min_samples_leaf': [3, 4, 5],\n",
    "    'min_samples_split': [1, 2, 3],\n",
    "    'n_estimators': [1000, 1200, 1400, 2000]\n",
    "}\n",
    "# Create a based model\n",
    "rf = RandomForestRegressor()\n",
    "# Instantiate the grid search model\n",
    "grid_search = GridSearchCV(estimator = rf, param_grid = param_grid, \n",
    "                          cv = 3, n_jobs = -1, verbose = 2)\n",
    "\n",
    "grid_search.fit(Xtr, Ytr)\n",
    "grid_search.best_params_"
   ]
  }
 ],
 "metadata": {
  "kernelspec": {
   "display_name": "Python 3",
   "language": "python",
   "name": "python3"
  },
  "language_info": {
   "codemirror_mode": {
    "name": "ipython",
    "version": 3
   },
   "file_extension": ".py",
   "mimetype": "text/x-python",
   "name": "python",
   "nbconvert_exporter": "python",
   "pygments_lexer": "ipython3",
   "version": "3.7.6"
  }
 },
 "nbformat": 4,
 "nbformat_minor": 4
}
